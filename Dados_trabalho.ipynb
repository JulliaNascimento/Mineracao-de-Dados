{
  "nbformat": 4,
  "nbformat_minor": 0,
  "metadata": {
    "colab": {
      "provenance": [],
      "collapsed_sections": [],
      "authorship_tag": "ABX9TyOq3+YhRO4NEc7FvWmxedfF",
      "include_colab_link": true
    },
    "kernelspec": {
      "name": "ir",
      "display_name": "R"
    },
    "language_info": {
      "name": "R"
    },
    "accelerator": "GPU"
  },
  "cells": [
    {
      "cell_type": "markdown",
      "metadata": {
        "id": "view-in-github",
        "colab_type": "text"
      },
      "source": [
        "<a href=\"https://colab.research.google.com/github/JulliaNascimento/Mineracao-de-Dados/blob/main/Dados_trabalho.ipynb\" target=\"_parent\"><img src=\"https://colab.research.google.com/assets/colab-badge.svg\" alt=\"Open In Colab\"/></a>"
      ]
    },
    {
      "cell_type": "markdown",
      "source": [
        "# **Desenvolvimento Códigos - Trabalho de Mineração de Dados**\n",
        "\n",
        "\n"
      ],
      "metadata": {
        "id": "hPj_lX6fOR1F"
      }
    },
    {
      "cell_type": "markdown",
      "source": [
        "# **Dados**"
      ],
      "metadata": {
        "id": "Xi8THg5fNwhq"
      }
    },
    {
      "cell_type": "markdown",
      "source": [
        "Instalando pacotes necessários para realizar as analises"
      ],
      "metadata": {
        "id": "iPmGZcOLv6f6"
      }
    },
    {
      "cell_type": "code",
      "source": [
        "install.packages(\"tidymodels\")\n",
        "install.packages(\"janitor\")\n",
        "install.packages(\"skimr\")\n",
        "install.packages(\"vip\")\n",
        "install.packages(\"rpart.plot\")\n",
        "install.packages(\"rpart\")\n",
        "install.packages(\"gmodels\")\n",
        "install.packages(\"C50\")"
      ],
      "metadata": {
        "id": "85e122QXrHWv"
      },
      "execution_count": null,
      "outputs": []
    },
    {
      "cell_type": "markdown",
      "source": [
        "Carregando os pacotes instalados anteriormente\n",
        "\n",
        "\n"
      ],
      "metadata": {
        "id": "uONhuY8Uwj5H"
      }
    },
    {
      "cell_type": "code",
      "execution_count": 8,
      "metadata": {
        "id": "8OVz_hPWo6tD"
      },
      "outputs": [],
      "source": [
        "library(tidyverse)\n",
        "library(tidymodels)\n",
        "library(janitor)\n",
        "library(skimr)\n",
        "library(scales)\n",
        "library(gmodels)\n",
        "library(vip)\n",
        "library(rpart.plot)\n",
        "library(rpart)\n",
        "library(C50)"
      ]
    },
    {
      "cell_type": "markdown",
      "source": [
        "Carregamento dos dados e tratativa no nome das colunas"
      ],
      "metadata": {
        "id": "nG5QSyIbz3fd"
      }
    },
    {
      "cell_type": "code",
      "source": [
        "dados <- read_csv2(\"/content/Base de Dados - Incidentes.csv\",locale = locale(encoding ='ISO-8859-1'))\n",
        "dados <- janitor::clean_names(dados)\n",
        "#skim(dados)"
      ],
      "metadata": {
        "id": "mQ0ySXgXuhle"
      },
      "execution_count": null,
      "outputs": []
    },
    {
      "cell_type": "markdown",
      "source": [
        "Realizando tratativa dos dados, mudando as variáveis char em fatores, criando uma nova coluna que de acordo com o Estado iremos definir a região, após isso realizando a exclusão da coluna estado já que não iremos trabalhar com ela. \n",
        "\n",
        "Além disso substituímos os \"***\" por NA para que seja possível identicar os dados faltantes"
      ],
      "metadata": {
        "id": "Dvh_1_-11ydD"
      }
    },
    {
      "cell_type": "code",
      "source": [
        "dados <- mutate (dados,regiao = case_when(ocorrencia_uf %in% c('MG','SP','RJ','ES') ~ 'SUDESTE',\n",
        "                 ocorrencia_uf %in% c('PR','RS','SC') ~ 'SUL',\n",
        "                 ocorrencia_uf %in% c('MA','PI','CE','RN','PE','PB','SE','AL','BA') ~ 'NORDESTE',\n",
        "                 ocorrencia_uf %in% c('MT','MS','GO','DF') ~ 'CENTRO-OESTE',\n",
        "                 ocorrencia_uf %in% c('AM','RR','AP','PA','TO','RO','AC') ~ 'NORTE'),.keep='unused')\n",
        "\n",
        "dados <- mutate(dados,\n",
        "                ocorrencia_classificacao = as.factor(ocorrencia_classificacao),\n",
        "                ocorrencia_saida_pista = as.factor(ocorrencia_saida_pista),\n",
        "                aeronave_tipo_veiculo = as.factor(aeronave_tipo_veiculo),\n",
        "                aeronave_motor_tipo = as.factor(aeronave_motor_tipo),\n",
        "                aeronave_motor_quantidade = as.factor(aeronave_motor_quantidade),\n",
        "                aeronave_fase_operacao = as.factor(aeronave_fase_operacao),\n",
        "                aeronave_tipo_operacao = as.factor(aeronave_tipo_operacao),\n",
        "                aeronave_nivel_dano = as.factor(aeronave_nivel_dano),\n",
        "                regiao = as.factor(regiao)\n",
        "                )\n",
        "dados[dados== '***'] <- NA"
      ],
      "metadata": {
        "id": "TXvHjRKxuiHx"
      },
      "execution_count": 11,
      "outputs": []
    },
    {
      "cell_type": "markdown",
      "source": [
        "## **Analise Descritiva dos Dados**"
      ],
      "metadata": {
        "id": "Zv9HvOywiNY3"
      }
    },
    {
      "cell_type": "markdown",
      "source": [
        "Trazendo informações referente ao conjunto de dados. Como quantidade de observações, quantidade de colunas, quantidade de dados faltantes em cada coluna entre outras informações."
      ],
      "metadata": {
        "id": "P8D6MXYo2vDT"
      }
    },
    {
      "cell_type": "code",
      "source": [
        "glimpse(dados)"
      ],
      "metadata": {
        "colab": {
          "base_uri": "https://localhost:8080/"
        },
        "id": "EJ-5-irXw0DB",
        "outputId": "8d249302-d1cf-42e2-f5a0-5fd27373ae9b"
      },
      "execution_count": 6,
      "outputs": [
        {
          "output_type": "stream",
          "name": "stdout",
          "text": [
            "Rows: 5,529\n",
            "Columns: 10\n",
            "$ ocorrencia_classificacao   \u001b[3m\u001b[90m<fct>\u001b[39m\u001b[23m INCIDENTE GRAVE, INCIDENTE GRAVE, INCIDENTE…\n",
            "$ total_aeronaves_envolvidas \u001b[3m\u001b[90m<dbl>\u001b[39m\u001b[23m 1, 1, 1, 1, 1, 1, 1, 2, 1, 1, 1, 1, 1, 1, 1…\n",
            "$ ocorrencia_saida_pista     \u001b[3m\u001b[90m<fct>\u001b[39m\u001b[23m SIM, NÃO, NÃO, NÃO, NÃO, NÃO, NÃO, NÃO, NÃO…\n",
            "$ aeronave_tipo_veiculo      \u001b[3m\u001b[90m<fct>\u001b[39m\u001b[23m AVIÃO, AVIÃO, AVIÃO, AVIÃO, AVIÃO, AVIÃO, A…\n",
            "$ aeronave_motor_tipo        \u001b[3m\u001b[90m<fct>\u001b[39m\u001b[23m PISTÃO, PISTÃO, PISTÃO, NA, JATO, JATO, JAT…\n",
            "$ aeronave_motor_quantidade  \u001b[3m\u001b[90m<fct>\u001b[39m\u001b[23m BIMOTOR, BIMOTOR, MONOMOTOR, SEM TRAÇÃO, BI…\n",
            "$ aeronave_fase_operacao     \u001b[3m\u001b[90m<fct>\u001b[39m\u001b[23m POUSO, CORRIDA APÓS POUSO, DECOLAGEM, TÁXI,…\n",
            "$ aeronave_tipo_operacao     \u001b[3m\u001b[90m<fct>\u001b[39m\u001b[23m PRIVADA, PRIVADA, PRIVADA, REGULAR, TÁXI AÉ…\n",
            "$ aeronave_nivel_dano        \u001b[3m\u001b[90m<fct>\u001b[39m\u001b[23m LEVE, LEVE, LEVE, NENHUM, LEVE, LEVE, NENHU…\n",
            "$ regiao                     \u001b[3m\u001b[90m<fct>\u001b[39m\u001b[23m SUL, SUDESTE, CENTRO-OESTE, SUDESTE, NORTE,…\n"
          ]
        }
      ]
    },
    {
      "cell_type": "code",
      "source": [
        "dados |> skim()\n"
      ],
      "metadata": {
        "colab": {
          "base_uri": "https://localhost:8080/"
        },
        "id": "wNmGwVDH3GJx",
        "outputId": "7501fe23-1a64-40de-86ed-f21892b88c63"
      },
      "execution_count": 7,
      "outputs": [
        {
          "output_type": "stream",
          "name": "stdout",
          "text": [
            "── Data Summary ────────────────────────\n",
            "                           Values\n",
            "Name                       dados \n",
            "Number of rows             5529  \n",
            "Number of columns          10    \n",
            "_______________________          \n",
            "Column type frequency:           \n",
            "  factor                   9     \n",
            "  numeric                  1     \n",
            "________________________         \n",
            "Group variables            None  \n",
            "\n",
            "── Variable type: factor ───────────────────────────────────────────────────────\n",
            "  skim_variable             n_missing complete_rate ordered n_unique\n",
            "\u001b[90m1\u001b[39m ocorrencia_classificacao          0         1     FALSE          3\n",
            "\u001b[90m2\u001b[39m ocorrencia_saida_pista            0         1     FALSE          2\n",
            "\u001b[90m3\u001b[39m aeronave_tipo_veiculo           166         0.970 FALSE          9\n",
            "\u001b[90m4\u001b[39m aeronave_motor_tipo             260         0.953 FALSE          6\n",
            "\u001b[90m5\u001b[39m aeronave_motor_quantidade       105         0.981 FALSE          5\n",
            "\u001b[90m6\u001b[39m aeronave_fase_operacao           29         0.995 FALSE         31\n",
            "\u001b[90m7\u001b[39m aeronave_tipo_operacao          118         0.979 FALSE          9\n",
            "\u001b[90m8\u001b[39m aeronave_nivel_dano              48         0.991 FALSE          4\n",
            "\u001b[90m9\u001b[39m regiao                            4         0.999 FALSE          5\n",
            "  top_counts                               \n",
            "\u001b[90m1\u001b[39m INC: 3041, ACI: 1753, INC: 735           \n",
            "\u001b[90m2\u001b[39m NÃO: 5002, SIM: 527                      \n",
            "\u001b[90m3\u001b[39m AVI: 4446, HEL: 578, ULT: 305, PLA: 14   \n",
            "\u001b[90m4\u001b[39m PIS: 3001, JAT: 1038, TUR: 713, TUR: 490 \n",
            "\u001b[90m5\u001b[39m MON: 2814, BIM: 2365, SEM: 170, TRI: 70  \n",
            "\u001b[90m6\u001b[39m POU: 908, DEC: 877, CRU: 871, COR: 609   \n",
            "\u001b[90m7\u001b[39m PRI: 1925, REG: 1144, INS: 679, TÁX: 635 \n",
            "\u001b[90m8\u001b[39m NEN: 2004, LEV: 1609, SUB: 1559, DES: 309\n",
            "\u001b[90m9\u001b[39m SUD: 2393, SUL: 977, CEN: 861, NOR: 725  \n",
            "\n",
            "── Variable type: numeric ──────────────────────────────────────────────────────\n",
            "  skim_variable              n_missing complete_rate mean    sd p0 p25 p50 p75\n",
            "\u001b[90m1\u001b[39m total_aeronaves_envolvidas         0             1 1.01 0.122  1   1   1   1\n",
            "  p100 hist \n",
            "\u001b[90m1\u001b[39m    3 ▇▁▁▁▁\n"
          ]
        },
        {
          "output_type": "stream",
          "name": "stderr",
          "text": [
            "Warning message in is.null(text_repr) || nchar(text_repr) == 0L:\n",
            "“'length(x) = 2 > 1' in coercion to 'logical(1)'”\n"
          ]
        }
      ]
    },
    {
      "cell_type": "markdown",
      "source": [
        "Após trazer a descrição dos dados, vamos realizar a analise descritiva para que possamos entender o conjunto de dados."
      ],
      "metadata": {
        "id": "TXCRlZbc3W8u"
      }
    },
    {
      "cell_type": "code",
      "source": [
        "qtde_obs <- nrow(dados)\n",
        "\n",
        "dados |>\n",
        "        group_by(ocorrencia_classificacao) |>\n",
        "        summarise(quantidade = percent(round(n()/qtde_obs,4))) |>\n",
        "        ggplot(aes(x=fct_reorder(ocorrencia_classificacao,quantidade),y=quantidade,label=quantidade))  + \n",
        "        geom_bar(stat= \"identity\",fill = \"lightblue\") +\n",
        "        geom_label() +\n",
        "        coord_flip () +\n",
        "        ggtitle(\"Figura 1: Representatividade de Classificação de Ocorrencia\")+\n",
        "        xlab(\"Classificação Ocorrencia\") + ylab(\"\") +\n",
        "        theme_bw() +\n",
        "        theme(axis.title.x = element_text(margin(t=8)),panel.grid=element_blank())"
      ],
      "metadata": {
        "colab": {
          "base_uri": "https://localhost:8080/",
          "height": 489
        },
        "id": "aPLV5dLJxIgd",
        "outputId": "5d58ae7f-5bc3-4509-caf4-33ac697065b3"
      },
      "execution_count": 8,
      "outputs": [
        {
          "output_type": "stream",
          "name": "stderr",
          "text": [
            "Warning message:\n",
            "“Vectorized input to `element_text()` is not officially supported.\n",
            "Results may be unexpected or may change in future versions of ggplot2.”\n"
          ]
        },
        {
          "output_type": "display_data",
          "data": {
            "text/plain": [
              "plot without title"
            ],
            "image/png": "[encoded data removed]"
          },
          "metadata": {
            "image/png": {
              "width": 420,
              "height": 420
            }
          }
        }
      ]
    },
    {
      "cell_type": "markdown",
      "source": [
        "Neste primeiro gráfico é referente a variével target, onde é possível perceber que 55% dos dados são referentes a incidentes, e talvez por conta dessa proporção seja necessário tratativa para realizar a análise de classificação atráves da arvore de decisão. "
      ],
      "metadata": {
        "id": "JA-QkdJr6D8C"
      }
    },
    {
      "cell_type": "markdown",
      "source": [
        "### **Tabelas Cruzadas**"
      ],
      "metadata": {
        "id": "VqrSCmOpibnN"
      }
    },
    {
      "cell_type": "code",
      "source": [
        "CrossTable(dados$ocorrencia_saida_pista,dados$ocorrencia_classificacao,\n",
        "           prop.r=TRUE, prop.c=TRUE, prop.t=FALSE, prop.chisq=FALSE, expected=TRUE,\n",
        "           digits=2)"
      ],
      "metadata": {
        "colab": {
          "base_uri": "https://localhost:8080/"
        },
        "id": "Wjt74PLyil_i",
        "outputId": "de5da7c3-af8c-49c6-df76-ecae60600ead"
      },
      "execution_count": 9,
      "outputs": [
        {
          "output_type": "stream",
          "name": "stdout",
          "text": [
            "\n",
            " \n",
            "   Cell Contents\n",
            "|-------------------------|\n",
            "|                       N |\n",
            "|              Expected N |\n",
            "|           N / Row Total |\n",
            "|           N / Col Total |\n",
            "|-------------------------|\n",
            "\n",
            " \n",
            "Total Observations in Table:  5529 \n",
            "\n",
            " \n",
            "                             | dados$ocorrencia_classificacao \n",
            "dados$ocorrencia_saida_pista |        ACIDENTE |       INCIDENTE | INCIDENTE GRAVE |       Row Total | \n",
            "-----------------------------|-----------------|-----------------|-----------------|-----------------|\n",
            "                         NÃO |            1480 |            2993 |             529 |            5002 | \n",
            "                             |         1585.91 |         2751.15 |          664.94 |                 | \n",
            "                             |            0.30 |            0.60 |            0.11 |            0.90 | \n",
            "                             |            0.84 |            0.98 |            0.72 |                 | \n",
            "-----------------------------|-----------------|-----------------|-----------------|-----------------|\n",
            "                         SIM |             273 |              48 |             206 |             527 | \n",
            "                             |          167.09 |          289.85 |           70.06 |                 | \n",
            "                             |            0.52 |            0.09 |            0.39 |            0.10 | \n",
            "                             |            0.16 |            0.02 |            0.28 |                 | \n",
            "-----------------------------|-----------------|-----------------|-----------------|-----------------|\n",
            "                Column Total |            1753 |            3041 |             735 |            5529 | \n",
            "                             |            0.32 |            0.55 |            0.13 |                 | \n",
            "-----------------------------|-----------------|-----------------|-----------------|-----------------|\n",
            "\n",
            " \n",
            "Statistics for All Table Factors\n",
            "\n",
            "\n",
            "Pearson's Chi-squared test \n",
            "------------------------------------------------------------\n",
            "Chi^2 =  588.8574     d.f. =  2     p =  1.35284e-128 \n",
            "\n",
            "\n",
            " \n"
          ]
        }
      ]
    },
    {
      "cell_type": "code",
      "source": [
        "CrossTable(dados$aeronave_tipo_veiculo,dados$ocorrencia_classificacao,\n",
        "           prop.r=TRUE, prop.c=TRUE, prop.t=FALSE, prop.chisq=FALSE, expected=TRUE,\n",
        "           digits=2)"
      ],
      "metadata": {
        "colab": {
          "base_uri": "https://localhost:8080/"
        },
        "id": "d5dsGmljiqgc",
        "outputId": "374ca38d-0e2c-4213-8f77-156563e06c88"
      },
      "execution_count": 10,
      "outputs": [
        {
          "output_type": "stream",
          "name": "stderr",
          "text": [
            "Warning message in chisq.test(t, correct = FALSE, ...):\n",
            "“Chi-squared approximation may be incorrect”\n"
          ]
        },
        {
          "output_type": "stream",
          "name": "stdout",
          "text": [
            "\n",
            " \n",
            "   Cell Contents\n",
            "|-------------------------|\n",
            "|                       N |\n",
            "|              Expected N |\n",
            "|           N / Row Total |\n",
            "|           N / Col Total |\n",
            "|-------------------------|\n",
            "\n",
            " \n",
            "Total Observations in Table:  5363 \n",
            "\n",
            " \n",
            "                            | dados$ocorrencia_classificacao \n",
            "dados$aeronave_tipo_veiculo |        ACIDENTE |       INCIDENTE | INCIDENTE GRAVE |       Row Total | \n",
            "----------------------------|-----------------|-----------------|-----------------|-----------------|\n",
            "                    ANFÍBIO |               6 |               6 |               0 |              12 | \n",
            "                            |            3.82 |            6.58 |            1.61 |                 | \n",
            "                            |            0.50 |            0.50 |            0.00 |            0.00 | \n",
            "                            |            0.00 |            0.00 |            0.00 |                 | \n",
            "----------------------------|-----------------|-----------------|-----------------|-----------------|\n",
            "                      AVIÃO |            1275 |            2560 |             611 |            4446 | \n",
            "                            |         1413.47 |         2436.47 |          596.06 |                 | \n",
            "                            |            0.29 |            0.58 |            0.14 |            0.83 | \n",
            "                            |            0.75 |            0.87 |            0.85 |                 | \n",
            "----------------------------|-----------------|-----------------|-----------------|-----------------|\n",
            "                      BALÃO |               1 |               0 |               0 |               1 | \n",
            "                            |            0.32 |            0.55 |            0.13 |                 | \n",
            "                            |            1.00 |            0.00 |            0.00 |            0.00 | \n",
            "                            |            0.00 |            0.00 |            0.00 |                 | \n",
            "----------------------------|-----------------|-----------------|-----------------|-----------------|\n",
            "                  DIRIGÍVEL |               0 |               1 |               0 |               1 | \n",
            "                            |            0.32 |            0.55 |            0.13 |                 | \n",
            "                            |            0.00 |            1.00 |            0.00 |            0.00 | \n",
            "                            |            0.00 |            0.00 |            0.00 |                 | \n",
            "----------------------------|-----------------|-----------------|-----------------|-----------------|\n",
            "                HELICÓPTERO |             196 |             320 |              62 |             578 | \n",
            "                            |          183.76 |          316.75 |           77.49 |                 | \n",
            "                            |            0.34 |            0.55 |            0.11 |            0.11 | \n",
            "                            |            0.11 |            0.11 |            0.09 |                 | \n",
            "----------------------------|-----------------|-----------------|-----------------|-----------------|\n",
            "                 HIDROAVIÃO |               0 |               1 |               0 |               1 | \n",
            "                            |            0.32 |            0.55 |            0.13 |                 | \n",
            "                            |            0.00 |            1.00 |            0.00 |            0.00 | \n",
            "                            |            0.00 |            0.00 |            0.00 |                 | \n",
            "----------------------------|-----------------|-----------------|-----------------|-----------------|\n",
            "                   PLANADOR |              10 |               3 |               1 |              14 | \n",
            "                            |            4.45 |            7.67 |            1.88 |                 | \n",
            "                            |            0.71 |            0.21 |            0.07 |            0.00 | \n",
            "                            |            0.01 |            0.00 |            0.00 |                 | \n",
            "----------------------------|-----------------|-----------------|-----------------|-----------------|\n",
            "                      TRIKE |               5 |               0 |               0 |               5 | \n",
            "                            |            1.59 |            2.74 |            0.67 |                 | \n",
            "                            |            1.00 |            0.00 |            0.00 |            0.00 | \n",
            "                            |            0.00 |            0.00 |            0.00 |                 | \n",
            "----------------------------|-----------------|-----------------|-----------------|-----------------|\n",
            "                  ULTRALEVE |             212 |              48 |              45 |             305 | \n",
            "                            |           96.97 |          167.14 |           40.89 |                 | \n",
            "                            |            0.70 |            0.16 |            0.15 |            0.06 | \n",
            "                            |            0.12 |            0.02 |            0.06 |                 | \n",
            "----------------------------|-----------------|-----------------|-----------------|-----------------|\n",
            "               Column Total |            1705 |            2939 |             719 |            5363 | \n",
            "                            |            0.32 |            0.55 |            0.13 |                 | \n",
            "----------------------------|-----------------|-----------------|-----------------|-----------------|\n",
            "\n",
            " \n",
            "Statistics for All Table Factors\n",
            "\n",
            "\n",
            "Pearson's Chi-squared test \n",
            "------------------------------------------------------------\n",
            "Chi^2 =  273.5672     d.f. =  16     p =  7.380525e-49 \n",
            "\n",
            "\n",
            " \n"
          ]
        }
      ]
    },
    {
      "cell_type": "code",
      "source": [
        "CrossTable(dados$aeronave_motor_tipo,dados$ocorrencia_classificacao,\n",
        "           prop.r=TRUE, prop.c=TRUE, prop.t=FALSE, prop.chisq=FALSE, expected=TRUE,\n",
        "           digits=2)"
      ],
      "metadata": {
        "colab": {
          "base_uri": "https://localhost:8080/"
        },
        "id": "0E5WOZJVisA0",
        "outputId": "c7b6c02d-bb63-44a4-c511-f6dd5630b30c"
      },
      "execution_count": 11,
      "outputs": [
        {
          "output_type": "stream",
          "name": "stderr",
          "text": [
            "Warning message in chisq.test(t, correct = FALSE, ...):\n",
            "“Chi-squared approximation may be incorrect”\n"
          ]
        },
        {
          "output_type": "stream",
          "name": "stdout",
          "text": [
            "\n",
            " \n",
            "   Cell Contents\n",
            "|-------------------------|\n",
            "|                       N |\n",
            "|              Expected N |\n",
            "|           N / Row Total |\n",
            "|           N / Col Total |\n",
            "|-------------------------|\n",
            "\n",
            " \n",
            "Total Observations in Table:  5269 \n",
            "\n",
            " \n",
            "                          | dados$ocorrencia_classificacao \n",
            "dados$aeronave_motor_tipo |        ACIDENTE |       INCIDENTE | INCIDENTE GRAVE |       Row Total | \n",
            "--------------------------|-----------------|-----------------|-----------------|-----------------|\n",
            "                        0 |               2 |              10 |               1 |              13 | \n",
            "                          |            4.12 |            7.13 |            1.75 |                 | \n",
            "                          |            0.15 |            0.77 |            0.08 |            0.00 | \n",
            "                          |            0.00 |            0.00 |            0.00 |                 | \n",
            "--------------------------|-----------------|-----------------|-----------------|-----------------|\n",
            "                     JATO |              35 |             948 |              55 |            1038 | \n",
            "                          |          328.99 |          569.53 |          139.48 |                 | \n",
            "                          |            0.03 |            0.91 |            0.05 |            0.20 | \n",
            "                          |            0.02 |            0.33 |            0.08 |                 | \n",
            "--------------------------|-----------------|-----------------|-----------------|-----------------|\n",
            "                   PISTÃO |            1401 |            1067 |             533 |            3001 | \n",
            "                          |          951.16 |         1646.59 |          403.25 |                 | \n",
            "                          |            0.47 |            0.36 |            0.18 |            0.57 | \n",
            "                          |            0.84 |            0.37 |            0.75 |                 | \n",
            "--------------------------|-----------------|-----------------|-----------------|-----------------|\n",
            "               SEM TRAÇÃO |              10 |               3 |               1 |              14 | \n",
            "                          |            4.44 |            7.68 |            1.88 |                 | \n",
            "                          |            0.71 |            0.21 |            0.07 |            0.00 | \n",
            "                          |            0.01 |            0.00 |            0.00 |                 | \n",
            "--------------------------|-----------------|-----------------|-----------------|-----------------|\n",
            "                TURBOEIXO |              99 |             341 |              50 |             490 | \n",
            "                          |          155.30 |          268.85 |           65.84 |                 | \n",
            "                          |            0.20 |            0.70 |            0.10 |            0.09 | \n",
            "                          |            0.06 |            0.12 |            0.07 |                 | \n",
            "--------------------------|-----------------|-----------------|-----------------|-----------------|\n",
            "               TURBOÉLICE |             123 |             522 |              68 |             713 | \n",
            "                          |          225.98 |          391.21 |           95.81 |                 | \n",
            "                          |            0.17 |            0.73 |            0.10 |            0.14 | \n",
            "                          |            0.07 |            0.18 |            0.10 |                 | \n",
            "--------------------------|-----------------|-----------------|-----------------|-----------------|\n",
            "             Column Total |            1670 |            2891 |             708 |            5269 | \n",
            "                          |            0.32 |            0.55 |            0.13 |                 | \n",
            "--------------------------|-----------------|-----------------|-----------------|-----------------|\n",
            "\n",
            " \n",
            "Statistics for All Table Factors\n",
            "\n",
            "\n",
            "Pearson's Chi-squared test \n",
            "------------------------------------------------------------\n",
            "Chi^2 =  1179.008     d.f. =  10     p =  4.856654e-247 \n",
            "\n",
            "\n",
            " \n"
          ]
        }
      ]
    },
    {
      "cell_type": "code",
      "source": [
        "CrossTable(dados$aeronave_motor_quantidade,dados$ocorrencia_classificacao,\n",
        "           prop.r=TRUE, prop.c=TRUE, prop.t=FALSE, prop.chisq=FALSE, expected=TRUE,\n",
        "           digits=2)"
      ],
      "metadata": {
        "colab": {
          "base_uri": "https://localhost:8080/"
        },
        "id": "WTPR4vjPit5j",
        "outputId": "214dd333-e8a3-4959-ff3c-19e6af87222f"
      },
      "execution_count": 12,
      "outputs": [
        {
          "output_type": "stream",
          "name": "stderr",
          "text": [
            "Warning message in chisq.test(t, correct = FALSE, ...):\n",
            "“Chi-squared approximation may be incorrect”\n"
          ]
        },
        {
          "output_type": "stream",
          "name": "stdout",
          "text": [
            "\n",
            " \n",
            "   Cell Contents\n",
            "|-------------------------|\n",
            "|                       N |\n",
            "|              Expected N |\n",
            "|           N / Row Total |\n",
            "|           N / Col Total |\n",
            "|-------------------------|\n",
            "\n",
            " \n",
            "Total Observations in Table:  5424 \n",
            "\n",
            " \n",
            "                                | dados$ocorrencia_classificacao \n",
            "dados$aeronave_motor_quantidade |        ACIDENTE |       INCIDENTE | INCIDENTE GRAVE |       Row Total | \n",
            "--------------------------------|-----------------|-----------------|-----------------|-----------------|\n",
            "                        BIMOTOR |             249 |            1875 |             241 |            2365 | \n",
            "                                |          748.22 |         1298.48 |          318.30 |                 | \n",
            "                                |            0.11 |            0.79 |            0.10 |            0.44 | \n",
            "                                |            0.15 |            0.63 |            0.33 |                 | \n",
            "--------------------------------|-----------------|-----------------|-----------------|-----------------|\n",
            "                      MONOMOTOR |            1406 |             943 |             465 |            2814 | \n",
            "                                |          890.27 |         1545.00 |          378.73 |                 | \n",
            "                                |            0.50 |            0.34 |            0.17 |            0.52 | \n",
            "                                |            0.82 |            0.32 |            0.64 |                 | \n",
            "--------------------------------|-----------------|-----------------|-----------------|-----------------|\n",
            "                    QUADRIMOTOR |               0 |               5 |               0 |               5 | \n",
            "                                |            1.58 |            2.75 |            0.67 |                 | \n",
            "                                |            0.00 |            1.00 |            0.00 |            0.00 | \n",
            "                                |            0.00 |            0.00 |            0.00 |                 | \n",
            "--------------------------------|-----------------|-----------------|-----------------|-----------------|\n",
            "                     SEM TRAÇÃO |              60 |              87 |              23 |             170 | \n",
            "                                |           53.78 |           93.34 |           22.88 |                 | \n",
            "                                |            0.35 |            0.51 |            0.14 |            0.03 | \n",
            "                                |            0.03 |            0.03 |            0.03 |                 | \n",
            "--------------------------------|-----------------|-----------------|-----------------|-----------------|\n",
            "                       TRIMOTOR |               1 |              68 |               1 |              70 | \n",
            "                                |           22.15 |           38.43 |            9.42 |                 | \n",
            "                                |            0.01 |            0.97 |            0.01 |            0.01 | \n",
            "                                |            0.00 |            0.02 |            0.00 |                 | \n",
            "--------------------------------|-----------------|-----------------|-----------------|-----------------|\n",
            "                   Column Total |            1716 |            2978 |             730 |            5424 | \n",
            "                                |            0.32 |            0.55 |            0.13 |                 | \n",
            "--------------------------------|-----------------|-----------------|-----------------|-----------------|\n",
            "\n",
            " \n",
            "Statistics for All Table Factors\n",
            "\n",
            "\n",
            "Pearson's Chi-squared test \n",
            "------------------------------------------------------------\n",
            "Chi^2 =  1216.526     d.f. =  8     p =  2.5758e-257 \n",
            "\n",
            "\n",
            " \n"
          ]
        }
      ]
    },
    {
      "cell_type": "code",
      "source": [
        "CrossTable(dados$aeronave_fase_operacao,dados$ocorrencia_classificacao,\n",
        "           prop.r=TRUE, prop.c=TRUE, prop.t=FALSE, prop.chisq=FALSE, expected=TRUE,\n",
        "           digits=2)"
      ],
      "metadata": {
        "colab": {
          "base_uri": "https://localhost:8080/"
        },
        "id": "YCta9stmivku",
        "outputId": "37c1fa64-1b31-43ac-c667-868ec1fd99c6"
      },
      "execution_count": 13,
      "outputs": [
        {
          "output_type": "stream",
          "name": "stderr",
          "text": [
            "Warning message in chisq.test(t, correct = FALSE, ...):\n",
            "“Chi-squared approximation may be incorrect”\n"
          ]
        },
        {
          "output_type": "stream",
          "name": "stdout",
          "text": [
            "\n",
            " \n",
            "   Cell Contents\n",
            "|-------------------------|\n",
            "|                       N |\n",
            "|              Expected N |\n",
            "|           N / Row Total |\n",
            "|           N / Col Total |\n",
            "|-------------------------|\n",
            "\n",
            " \n",
            "Total Observations in Table:  5500 \n",
            "\n",
            " \n",
            "                                | dados$ocorrencia_classificacao \n",
            "   dados$aeronave_fase_operacao |        ACIDENTE |       INCIDENTE | INCIDENTE GRAVE |       Row Total | \n",
            "--------------------------------|-----------------|-----------------|-----------------|-----------------|\n",
            "              APROXIMAÇÃO FINAL |              72 |             214 |              30 |             316 | \n",
            "                                |           99.45 |          174.37 |           42.17 |                 | \n",
            "                                |            0.23 |            0.68 |            0.09 |            0.06 | \n",
            "                                |            0.04 |            0.07 |            0.04 |                 | \n",
            "--------------------------------|-----------------|-----------------|-----------------|-----------------|\n",
            "               ARREMETIDA NO AR |              18 |               8 |               4 |              30 | \n",
            "                                |            9.44 |           16.55 |            4.00 |                 | \n",
            "                                |            0.60 |            0.27 |            0.13 |            0.01 | \n",
            "                                |            0.01 |            0.00 |            0.01 |                 | \n",
            "--------------------------------|-----------------|-----------------|-----------------|-----------------|\n",
            "             ARREMETIDA NO SOLO |              16 |              17 |               7 |              40 | \n",
            "                                |           12.59 |           22.07 |            5.34 |                 | \n",
            "                                |            0.40 |            0.42 |            0.17 |            0.01 | \n",
            "                                |            0.01 |            0.01 |            0.01 |                 | \n",
            "--------------------------------|-----------------|-----------------|-----------------|-----------------|\n",
            "       CHEQUE DE MOTOR OU ROTOR |               2 |               4 |               0 |               6 | \n",
            "                                |            1.89 |            3.31 |            0.80 |                 | \n",
            "                                |            0.33 |            0.67 |            0.00 |            0.00 | \n",
            "                                |            0.00 |            0.00 |            0.00 |                 | \n",
            "--------------------------------|-----------------|-----------------|-----------------|-----------------|\n",
            "            CIRCUITO DE TRÁFEGO |              44 |              51 |               8 |             103 | \n",
            "                                |           32.42 |           56.84 |           13.75 |                 | \n",
            "                                |            0.43 |            0.50 |            0.08 |            0.02 | \n",
            "                                |            0.03 |            0.02 |            0.01 |                 | \n",
            "--------------------------------|-----------------|-----------------|-----------------|-----------------|\n",
            "             CORRIDA APÓS POUSO |             140 |             328 |             141 |             609 | \n",
            "                                |          191.67 |          336.06 |           81.27 |                 | \n",
            "                                |            0.23 |            0.54 |            0.23 |            0.11 | \n",
            "                                |            0.08 |            0.11 |            0.19 |                 | \n",
            "--------------------------------|-----------------|-----------------|-----------------|-----------------|\n",
            "                       CRUZEIRO |             262 |             514 |              95 |             871 | \n",
            "                                |          274.13 |          480.63 |          116.24 |                 | \n",
            "                                |            0.30 |            0.59 |            0.11 |            0.16 | \n",
            "                                |            0.15 |            0.17 |            0.13 |                 | \n",
            "--------------------------------|-----------------|-----------------|-----------------|-----------------|\n",
            "                      DECOLAGEM |             344 |             439 |              94 |             877 | \n",
            "                                |          276.02 |          483.94 |          117.04 |                 | \n",
            "                                |            0.39 |            0.50 |            0.11 |            0.16 | \n",
            "                                |            0.20 |            0.14 |            0.13 |                 | \n",
            "--------------------------------|-----------------|-----------------|-----------------|-----------------|\n",
            "             DECOLAGEM VERTICAL |               8 |               4 |               2 |              14 | \n",
            "                                |            4.41 |            7.73 |            1.87 |                 | \n",
            "                                |            0.57 |            0.29 |            0.14 |            0.00 | \n",
            "                                |            0.00 |            0.00 |            0.00 |                 | \n",
            "--------------------------------|-----------------|-----------------|-----------------|-----------------|\n",
            "                        DESCIDA |              32 |             104 |              11 |             147 | \n",
            "                                |           46.26 |           81.12 |           19.62 |                 | \n",
            "                                |            0.22 |            0.71 |            0.07 |            0.03 | \n",
            "                                |            0.02 |            0.03 |            0.01 |                 | \n",
            "--------------------------------|-----------------|-----------------|-----------------|-----------------|\n",
            "          DESCIDA DE EMERGÊNCIA |               1 |               1 |               1 |               3 | \n",
            "                                |            0.94 |            1.66 |            0.40 |                 | \n",
            "                                |            0.33 |            0.33 |            0.33 |            0.00 | \n",
            "                                |            0.00 |            0.00 |            0.00 |                 | \n",
            "--------------------------------|-----------------|-----------------|-----------------|-----------------|\n",
            "          DESCIDA DESCONTROLADA |               2 |               0 |               1 |               3 | \n",
            "                                |            0.94 |            1.66 |            0.40 |                 | \n",
            "                                |            0.67 |            0.00 |            0.33 |            0.00 | \n",
            "                                |            0.00 |            0.00 |            0.00 |                 | \n",
            "--------------------------------|-----------------|-----------------|-----------------|-----------------|\n",
            "                EMPREGO MILITAR |               0 |               1 |               0 |               1 | \n",
            "                                |            0.31 |            0.55 |            0.13 |                 | \n",
            "                                |            0.00 |            1.00 |            0.00 |            0.00 | \n",
            "                                |            0.00 |            0.00 |            0.00 |                 | \n",
            "--------------------------------|-----------------|-----------------|-----------------|-----------------|\n",
            "                  ESPECIALIZADA |             112 |              12 |              12 |             136 | \n",
            "                                |           42.80 |           75.05 |           18.15 |                 | \n",
            "                                |            0.82 |            0.09 |            0.09 |            0.02 | \n",
            "                                |            0.06 |            0.00 |            0.02 |                 | \n",
            "--------------------------------|-----------------|-----------------|-----------------|-----------------|\n",
            "                         ESPERA |               0 |               3 |               0 |               3 | \n",
            "                                |            0.94 |            1.66 |            0.40 |                 | \n",
            "                                |            0.00 |            1.00 |            0.00 |            0.00 | \n",
            "                                |            0.00 |            0.00 |            0.00 |                 | \n",
            "--------------------------------|-----------------|-----------------|-----------------|-----------------|\n",
            "                 ESTACIONAMENTO |               2 |              61 |               4 |              67 | \n",
            "                                |           21.09 |           36.97 |            8.94 |                 | \n",
            "                                |            0.03 |            0.91 |            0.06 |            0.01 | \n",
            "                                |            0.00 |            0.02 |            0.01 |                 | \n",
            "--------------------------------|-----------------|-----------------|-----------------|-----------------|\n",
            "                  INDETERMINADA |              68 |              21 |               3 |              92 | \n",
            "                                |           28.95 |           50.77 |           12.28 |                 | \n",
            "                                |            0.74 |            0.23 |            0.03 |            0.02 | \n",
            "                                |            0.04 |            0.01 |            0.00 |                 | \n",
            "--------------------------------|-----------------|-----------------|-----------------|-----------------|\n",
            "                        MANOBRA |             165 |              41 |              34 |             240 | \n",
            "                                |           75.53 |          132.44 |           32.03 |                 | \n",
            "                                |            0.69 |            0.17 |            0.14 |            0.04 | \n",
            "                                |            0.10 |            0.01 |            0.05 |                 | \n",
            "--------------------------------|-----------------|-----------------|-----------------|-----------------|\n",
            "   MUDANÇA DE NÍVEL OU ALTITUDE |               0 |               1 |               0 |               1 | \n",
            "                                |            0.31 |            0.55 |            0.13 |                 | \n",
            "                                |            0.00 |            1.00 |            0.00 |            0.00 | \n",
            "                                |            0.00 |            0.00 |            0.00 |                 | \n",
            "--------------------------------|-----------------|-----------------|-----------------|-----------------|\n",
            "               OPERAÇÃO DE SOLO |               5 |              20 |               0 |              25 | \n",
            "                                |            7.87 |           13.80 |            3.34 |                 | \n",
            "                                |            0.20 |            0.80 |            0.00 |            0.00 | \n",
            "                                |            0.00 |            0.01 |            0.00 |                 | \n",
            "--------------------------------|-----------------|-----------------|-----------------|-----------------|\n",
            "                     OUTRA FASE |              24 |              14 |               4 |              42 | \n",
            "                                |           13.22 |           23.18 |            5.61 |                 | \n",
            "                                |            0.57 |            0.33 |            0.10 |            0.01 | \n",
            "                                |            0.01 |            0.00 |            0.01 |                 | \n",
            "--------------------------------|-----------------|-----------------|-----------------|-----------------|\n",
            "                        PAIRADO |               8 |               5 |               3 |              16 | \n",
            "                                |            5.04 |            8.83 |            2.14 |                 | \n",
            "                                |            0.50 |            0.31 |            0.19 |            0.00 | \n",
            "                                |            0.00 |            0.00 |            0.00 |                 | \n",
            "--------------------------------|-----------------|-----------------|-----------------|-----------------|\n",
            "               PARTIDA DO MOTOR |               5 |              15 |               0 |              20 | \n",
            "                                |            6.29 |           11.04 |            2.67 |                 | \n",
            "                                |            0.25 |            0.75 |            0.00 |            0.00 | \n",
            "                                |            0.00 |            0.00 |            0.00 |                 | \n",
            "--------------------------------|-----------------|-----------------|-----------------|-----------------|\n",
            "                          POUSO |             277 |             419 |             212 |             908 | \n",
            "                                |          285.77 |          501.05 |          121.18 |                 | \n",
            "                                |            0.31 |            0.46 |            0.23 |            0.17 | \n",
            "                                |            0.16 |            0.14 |            0.29 |                 | \n",
            "--------------------------------|-----------------|-----------------|-----------------|-----------------|\n",
            "PROCEDIMENTO DE APROXIMAÇÃO IFR |               0 |              15 |               4 |              19 | \n",
            "                                |            5.98 |           10.48 |            2.54 |                 | \n",
            "                                |            0.00 |            0.79 |            0.21 |            0.00 | \n",
            "                                |            0.00 |            0.00 |            0.01 |                 | \n",
            "--------------------------------|-----------------|-----------------|-----------------|-----------------|\n",
            "                       PUSHBACK |               0 |               7 |               0 |               7 | \n",
            "                                |            2.20 |            3.86 |            0.93 |                 | \n",
            "                                |            0.00 |            1.00 |            0.00 |            0.00 | \n",
            "                                |            0.00 |            0.00 |            0.00 |                 | \n",
            "--------------------------------|-----------------|-----------------|-----------------|-----------------|\n",
            "                     RETA FINAL |               7 |               5 |               0 |              12 | \n",
            "                                |            3.78 |            6.62 |            1.60 |                 | \n",
            "                                |            0.58 |            0.42 |            0.00 |            0.00 | \n",
            "                                |            0.00 |            0.00 |            0.00 |                 | \n",
            "--------------------------------|-----------------|-----------------|-----------------|-----------------|\n",
            "                      SAÍDA IFR |               1 |               7 |               0 |               8 | \n",
            "                                |            2.52 |            4.41 |            1.07 |                 | \n",
            "                                |            0.12 |            0.88 |            0.00 |            0.00 | \n",
            "                                |            0.00 |            0.00 |            0.00 |                 | \n",
            "--------------------------------|-----------------|-----------------|-----------------|-----------------|\n",
            "                         SUBIDA |              56 |             349 |              22 |             427 | \n",
            "                                |          134.39 |          235.63 |           56.99 |                 | \n",
            "                                |            0.13 |            0.82 |            0.05 |            0.08 | \n",
            "                                |            0.03 |            0.11 |            0.03 |                 | \n",
            "--------------------------------|-----------------|-----------------|-----------------|-----------------|\n",
            "                           TÁXI |              14 |             347 |              33 |             394 | \n",
            "                                |          124.00 |          217.42 |           52.58 |                 | \n",
            "                                |            0.04 |            0.88 |            0.08 |            0.07 | \n",
            "                                |            0.01 |            0.11 |            0.04 |                 | \n",
            "--------------------------------|-----------------|-----------------|-----------------|-----------------|\n",
            "             VOO A BAIXA ALTURA |              46 |               8 |               9 |              63 | \n",
            "                                |           19.83 |           34.76 |            8.41 |                 | \n",
            "                                |            0.73 |            0.13 |            0.14 |            0.01 | \n",
            "                                |            0.03 |            0.00 |            0.01 |                 | \n",
            "--------------------------------|-----------------|-----------------|-----------------|-----------------|\n",
            "                   Column Total |            1731 |            3035 |             734 |            5500 | \n",
            "                                |            0.31 |            0.55 |            0.13 |                 | \n",
            "--------------------------------|-----------------|-----------------|-----------------|-----------------|\n",
            "\n",
            " \n",
            "Statistics for All Table Factors\n",
            "\n",
            "\n",
            "Pearson's Chi-squared test \n",
            "------------------------------------------------------------\n",
            "Chi^2 =  1102.089     d.f. =  60     p =  1.802272e-191 \n",
            "\n",
            "\n",
            " \n"
          ]
        }
      ]
    },
    {
      "cell_type": "code",
      "source": [
        "CrossTable(dados$aeronave_tipo_operacao,dados$ocorrencia_classificacao,\n",
        "           prop.r=TRUE, prop.c=TRUE, prop.t=FALSE, prop.chisq=FALSE, expected=TRUE,\n",
        "           digits=2)"
      ],
      "metadata": {
        "colab": {
          "base_uri": "https://localhost:8080/"
        },
        "id": "i60kpKesixP_",
        "outputId": "ea4d6f9e-18d8-42d9-8b93-ac08281e7894"
      },
      "execution_count": 14,
      "outputs": [
        {
          "output_type": "stream",
          "name": "stdout",
          "text": [
            "\n",
            " \n",
            "   Cell Contents\n",
            "|-------------------------|\n",
            "|                       N |\n",
            "|              Expected N |\n",
            "|           N / Row Total |\n",
            "|           N / Col Total |\n",
            "|-------------------------|\n",
            "\n",
            " \n",
            "Total Observations in Table:  5411 \n",
            "\n",
            " \n",
            "                             | dados$ocorrencia_classificacao \n",
            "dados$aeronave_tipo_operacao |        ACIDENTE |       INCIDENTE | INCIDENTE GRAVE |       Row Total | \n",
            "-----------------------------|-----------------|-----------------|-----------------|-----------------|\n",
            "                    AGRÍCOLA |             406 |              33 |              76 |             515 | \n",
            "                             |          164.85 |          282.10 |           68.05 |                 | \n",
            "                             |            0.79 |            0.06 |            0.15 |            0.10 | \n",
            "                             |            0.23 |            0.01 |            0.11 |                 | \n",
            "-----------------------------|-----------------|-----------------|-----------------|-----------------|\n",
            "               ESPECIALIZADA |              24 |              30 |              12 |              66 | \n",
            "                             |           21.13 |           36.15 |            8.72 |                 | \n",
            "                             |            0.36 |            0.45 |            0.18 |            0.01 | \n",
            "                             |            0.01 |            0.01 |            0.02 |                 | \n",
            "-----------------------------|-----------------|-----------------|-----------------|-----------------|\n",
            "                EXPERIMENTAL |             150 |              52 |              31 |             233 | \n",
            "                             |           74.58 |          127.63 |           30.79 |                 | \n",
            "                             |            0.64 |            0.22 |            0.13 |            0.04 | \n",
            "                             |            0.09 |            0.02 |            0.04 |                 | \n",
            "-----------------------------|-----------------|-----------------|-----------------|-----------------|\n",
            "                   INSTRUÇÃO |             193 |             350 |             136 |             679 | \n",
            "                             |          217.34 |          371.94 |           89.72 |                 | \n",
            "                             |            0.28 |            0.52 |            0.20 |            0.13 | \n",
            "                             |            0.11 |            0.12 |            0.19 |                 | \n",
            "-----------------------------|-----------------|-----------------|-----------------|-----------------|\n",
            "                 NÃO REGULAR |              10 |              43 |               8 |              61 | \n",
            "                             |           19.53 |           33.41 |            8.06 |                 | \n",
            "                             |            0.16 |            0.70 |            0.13 |            0.01 | \n",
            "                             |            0.01 |            0.01 |            0.01 |                 | \n",
            "-----------------------------|-----------------|-----------------|-----------------|-----------------|\n",
            "                    POLICIAL |              34 |              98 |              21 |             153 | \n",
            "                             |           48.97 |           83.81 |           20.22 |                 | \n",
            "                             |            0.22 |            0.64 |            0.14 |            0.03 | \n",
            "                             |            0.02 |            0.03 |            0.03 |                 | \n",
            "-----------------------------|-----------------|-----------------|-----------------|-----------------|\n",
            "                     PRIVADA |             787 |             823 |             315 |            1925 | \n",
            "                             |          616.17 |         1054.46 |          254.37 |                 | \n",
            "                             |            0.41 |            0.43 |            0.16 |            0.36 | \n",
            "                             |            0.45 |            0.28 |            0.44 |                 | \n",
            "-----------------------------|-----------------|-----------------|-----------------|-----------------|\n",
            "                     REGULAR |              17 |            1087 |              40 |            1144 | \n",
            "                             |          366.18 |          626.65 |          151.17 |                 | \n",
            "                             |            0.01 |            0.95 |            0.03 |            0.21 | \n",
            "                             |            0.01 |            0.37 |            0.06 |                 | \n",
            "-----------------------------|-----------------|-----------------|-----------------|-----------------|\n",
            "                  TÁXI AÉREO |             111 |             448 |              76 |             635 | \n",
            "                             |          203.26 |          347.84 |           83.91 |                 | \n",
            "                             |            0.17 |            0.71 |            0.12 |            0.12 | \n",
            "                             |            0.06 |            0.15 |            0.11 |                 | \n",
            "-----------------------------|-----------------|-----------------|-----------------|-----------------|\n",
            "                Column Total |            1732 |            2964 |             715 |            5411 | \n",
            "                             |            0.32 |            0.55 |            0.13 |                 | \n",
            "-----------------------------|-----------------|-----------------|-----------------|-----------------|\n",
            "\n",
            " \n",
            "Statistics for All Table Factors\n",
            "\n",
            "\n",
            "Pearson's Chi-squared test \n",
            "------------------------------------------------------------\n",
            "Chi^2 =  1676.719     d.f. =  16     p =  0 \n",
            "\n",
            "\n",
            " \n"
          ]
        }
      ]
    },
    {
      "cell_type": "code",
      "source": [
        "CrossTable(dados$aeronave_nivel_dano,dados$ocorrencia_classificacao,\n",
        "           prop.r=TRUE, prop.c=TRUE, prop.t=FALSE, prop.chisq=FALSE, expected=TRUE,\n",
        "           digits=2)"
      ],
      "metadata": {
        "colab": {
          "base_uri": "https://localhost:8080/"
        },
        "id": "Z8t6_nrZixWk",
        "outputId": "1547919e-cb89-4f22-a6b8-a625f26627d2"
      },
      "execution_count": 15,
      "outputs": [
        {
          "output_type": "stream",
          "name": "stdout",
          "text": [
            "\n",
            " \n",
            "   Cell Contents\n",
            "|-------------------------|\n",
            "|                       N |\n",
            "|              Expected N |\n",
            "|           N / Row Total |\n",
            "|           N / Col Total |\n",
            "|-------------------------|\n",
            "\n",
            " \n",
            "Total Observations in Table:  5481 \n",
            "\n",
            " \n",
            "                          | dados$ocorrencia_classificacao \n",
            "dados$aeronave_nivel_dano |        ACIDENTE |       INCIDENTE | INCIDENTE GRAVE |       Row Total | \n",
            "--------------------------|-----------------|-----------------|-----------------|-----------------|\n",
            "                DESTRUÍDA |             309 |               0 |               0 |             309 | \n",
            "                          |           97.14 |          170.76 |           41.10 |                 | \n",
            "                          |            1.00 |            0.00 |            0.00 |            0.06 | \n",
            "                          |            0.18 |            0.00 |            0.00 |                 | \n",
            "--------------------------|-----------------|-----------------|-----------------|-----------------|\n",
            "                     LEVE |              33 |            1164 |             412 |            1609 | \n",
            "                          |          505.80 |          889.19 |          214.00 |                 | \n",
            "                          |            0.02 |            0.72 |            0.26 |            0.29 | \n",
            "                          |            0.02 |            0.38 |            0.57 |                 | \n",
            "--------------------------|-----------------|-----------------|-----------------|-----------------|\n",
            "                   NENHUM |              25 |            1815 |             164 |            2004 | \n",
            "                          |          629.97 |         1107.48 |          266.54 |                 | \n",
            "                          |            0.01 |            0.91 |            0.08 |            0.37 | \n",
            "                          |            0.01 |            0.60 |            0.22 |                 | \n",
            "--------------------------|-----------------|-----------------|-----------------|-----------------|\n",
            "              SUBSTANCIAL |            1356 |              50 |             153 |            1559 | \n",
            "                          |          490.09 |          861.56 |          207.35 |                 | \n",
            "                          |            0.87 |            0.03 |            0.10 |            0.28 | \n",
            "                          |            0.79 |            0.02 |            0.21 |                 | \n",
            "--------------------------|-----------------|-----------------|-----------------|-----------------|\n",
            "             Column Total |            1723 |            3029 |             729 |            5481 | \n",
            "                          |            0.31 |            0.55 |            0.13 |                 | \n",
            "--------------------------|-----------------|-----------------|-----------------|-----------------|\n",
            "\n",
            " \n",
            "Statistics for All Table Factors\n",
            "\n",
            "\n",
            "Pearson's Chi-squared test \n",
            "------------------------------------------------------------\n",
            "Chi^2 =  4765.102     d.f. =  6     p =  0 \n",
            "\n",
            "\n",
            " \n"
          ]
        }
      ]
    },
    {
      "cell_type": "code",
      "source": [
        "CrossTable(dados$regiao,dados$ocorrencia_classificacao,\n",
        "           prop.r=TRUE, prop.c=TRUE, prop.t=FALSE, prop.chisq=FALSE, expected=TRUE,\n",
        "           digits=2)"
      ],
      "metadata": {
        "colab": {
          "base_uri": "https://localhost:8080/"
        },
        "id": "NgocdotVi19t",
        "outputId": "1c7002c8-09a1-491b-9af2-0b6bd5e5c909"
      },
      "execution_count": 16,
      "outputs": [
        {
          "output_type": "stream",
          "name": "stdout",
          "text": [
            "\n",
            " \n",
            "   Cell Contents\n",
            "|-------------------------|\n",
            "|                       N |\n",
            "|              Expected N |\n",
            "|           N / Row Total |\n",
            "|           N / Col Total |\n",
            "|-------------------------|\n",
            "\n",
            " \n",
            "Total Observations in Table:  5525 \n",
            "\n",
            " \n",
            "             | dados$ocorrencia_classificacao \n",
            "dados$regiao |        ACIDENTE |       INCIDENTE | INCIDENTE GRAVE |       Row Total | \n",
            "-------------|-----------------|-----------------|-----------------|-----------------|\n",
            "CENTRO-OESTE |             376 |             329 |             156 |             861 | \n",
            "             |          272.71 |          473.74 |          114.54 |                 | \n",
            "             |            0.44 |            0.38 |            0.18 |            0.16 | \n",
            "             |            0.21 |            0.11 |            0.21 |                 | \n",
            "-------------|-----------------|-----------------|-----------------|-----------------|\n",
            "    NORDESTE |             158 |             315 |              96 |             569 | \n",
            "             |          180.23 |          313.08 |           75.70 |                 | \n",
            "             |            0.28 |            0.55 |            0.17 |            0.10 | \n",
            "             |            0.09 |            0.10 |            0.13 |                 | \n",
            "-------------|-----------------|-----------------|-----------------|-----------------|\n",
            "       NORTE |             276 |             350 |              99 |             725 | \n",
            "             |          229.64 |          398.91 |           96.45 |                 | \n",
            "             |            0.38 |            0.48 |            0.14 |            0.13 | \n",
            "             |            0.16 |            0.12 |            0.13 |                 | \n",
            "-------------|-----------------|-----------------|-----------------|-----------------|\n",
            "     SUDESTE |             587 |            1539 |             267 |            2393 | \n",
            "             |          757.96 |         1316.69 |          318.34 |                 | \n",
            "             |            0.25 |            0.64 |            0.11 |            0.43 | \n",
            "             |            0.34 |            0.51 |            0.36 |                 | \n",
            "-------------|-----------------|-----------------|-----------------|-----------------|\n",
            "         SUL |             353 |             507 |             117 |             977 | \n",
            "             |          309.46 |          537.57 |          129.97 |                 | \n",
            "             |            0.36 |            0.52 |            0.12 |            0.18 | \n",
            "             |            0.20 |            0.17 |            0.16 |                 | \n",
            "-------------|-----------------|-----------------|-----------------|-----------------|\n",
            "Column Total |            1750 |            3040 |             735 |            5525 | \n",
            "             |            0.32 |            0.55 |            0.13 |                 | \n",
            "-------------|-----------------|-----------------|-----------------|-----------------|\n",
            "\n",
            " \n",
            "Statistics for All Table Factors\n",
            "\n",
            "\n",
            "Pearson's Chi-squared test \n",
            "------------------------------------------------------------\n",
            "Chi^2 =  215.511     d.f. =  8     p =  3.417384e-42 \n",
            "\n",
            "\n",
            " \n"
          ]
        }
      ]
    },
    {
      "cell_type": "code",
      "source": [
        "CrossTable(dados$total_aeronaves_envolvidas,dados$ocorrencia_classificacao,\n",
        "           prop.r=TRUE, prop.c=TRUE, prop.t=FALSE, prop.chisq=FALSE, expected=TRUE,\n",
        "           digits=2)"
      ],
      "metadata": {
        "colab": {
          "base_uri": "https://localhost:8080/"
        },
        "id": "3U-KZI0oi5A0",
        "outputId": "2b9309d6-4e1d-4441-f9f2-6eacd3d9f7a1"
      },
      "execution_count": 17,
      "outputs": [
        {
          "output_type": "stream",
          "name": "stderr",
          "text": [
            "Warning message in chisq.test(t, correct = FALSE, ...):\n",
            "“Chi-squared approximation may be incorrect”\n"
          ]
        },
        {
          "output_type": "stream",
          "name": "stdout",
          "text": [
            "\n",
            " \n",
            "   Cell Contents\n",
            "|-------------------------|\n",
            "|                       N |\n",
            "|              Expected N |\n",
            "|           N / Row Total |\n",
            "|           N / Col Total |\n",
            "|-------------------------|\n",
            "\n",
            " \n",
            "Total Observations in Table:  5529 \n",
            "\n",
            " \n",
            "                                 | dados$ocorrencia_classificacao \n",
            "dados$total_aeronaves_envolvidas |        ACIDENTE |       INCIDENTE | INCIDENTE GRAVE |       Row Total | \n",
            "---------------------------------|-----------------|-----------------|-----------------|-----------------|\n",
            "                               1 |            1742 |            2997 |             715 |            5454 | \n",
            "                                 |         1729.22 |         2999.75 |          725.03 |                 | \n",
            "                                 |            0.32 |            0.55 |            0.13 |            0.99 | \n",
            "                                 |            0.99 |            0.99 |            0.97 |                 | \n",
            "---------------------------------|-----------------|-----------------|-----------------|-----------------|\n",
            "                               2 |              11 |              42 |              19 |              72 | \n",
            "                                 |           22.83 |           39.60 |            9.57 |                 | \n",
            "                                 |            0.15 |            0.58 |            0.26 |            0.01 | \n",
            "                                 |            0.01 |            0.01 |            0.03 |                 | \n",
            "---------------------------------|-----------------|-----------------|-----------------|-----------------|\n",
            "                               3 |               0 |               2 |               1 |               3 | \n",
            "                                 |            0.95 |            1.65 |            0.40 |                 | \n",
            "                                 |            0.00 |            0.67 |            0.33 |            0.00 | \n",
            "                                 |            0.00 |            0.00 |            0.00 |                 | \n",
            "---------------------------------|-----------------|-----------------|-----------------|-----------------|\n",
            "                    Column Total |            1753 |            3041 |             735 |            5529 | \n",
            "                                 |            0.32 |            0.55 |            0.13 |                 | \n",
            "---------------------------------|-----------------|-----------------|-----------------|-----------------|\n",
            "\n",
            " \n",
            "Statistics for All Table Factors\n",
            "\n",
            "\n",
            "Pearson's Chi-squared test \n",
            "------------------------------------------------------------\n",
            "Chi^2 =  17.72935     d.f. =  4     p =  0.00139381 \n",
            "\n",
            "\n",
            " \n"
          ]
        }
      ]
    },
    {
      "cell_type": "markdown",
      "source": [
        "### **Gráficos**"
      ],
      "metadata": {
        "id": "kNCFNNK5kcLP"
      }
    },
    {
      "cell_type": "markdown",
      "source": [
        "Gráfico contendo a informação a quantidade ocorrencias de acordo com a classificação e ocorrencia_saida_pista"
      ],
      "metadata": {
        "id": "HPByPIsC8LLl"
      }
    },
    {
      "cell_type": "code",
      "source": [
        "dados |>\n",
        "        group_by(ocorrencia_saida_pista,ocorrencia_classificacao) |>\n",
        "        summarise(quantidade = n()) |>\n",
        "        ggplot(aes(x = ocorrencia_classificacao, y = quantidade,label= quantidade)) +\n",
        "        geom_bar(stat=\"identity\",fill = \"lightblue\") +\n",
        "        facet_wrap(~ocorrencia_saida_pista,ncol=2) +\n",
        "        geom_label(size=4)+\n",
        "        xlab(\"\") + ylab(\"\") +\n",
        "        theme_bw() +\n",
        "        theme(axis.title.x = element_text(margin(t=10)),panel.grid=element_blank()) +\n",
        "        ggtitle(\"Figura 2: Classificação Ocorrência por Ocorrência na saída de Pista\")"
      ],
      "metadata": {
        "colab": {
          "base_uri": "https://localhost:8080/",
          "height": 524
        },
        "id": "AK_3yY-ztK1-",
        "outputId": "3a8f25e3-2ba7-4ccc-98ff-f7a921ef4fd4"
      },
      "execution_count": 29,
      "outputs": [
        {
          "output_type": "stream",
          "name": "stderr",
          "text": [
            "\u001b[1m\u001b[22m`summarise()` has grouped output by 'ocorrencia_saida_pista'. You can override\n",
            "using the `.groups` argument.\n",
            "Warning message:\n",
            "“Vectorized input to `element_text()` is not officially supported.\n",
            "Results may be unexpected or may change in future versions of ggplot2.”\n"
          ]
        },
        {
          "output_type": "display_data",
          "data": {
            "text/plain": [
              "plot without title"
            ],
            "image/png": "[encoded data removed]"
          },
          "metadata": {
            "image/png": {
              "width": 420,
              "height": 420
            }
          }
        }
      ]
    },
    {
      "cell_type": "markdown",
      "source": [
        "Gráfico contendo a informação a quantidade ocorrencias de acordo com a classificação e tipo de veiculo"
      ],
      "metadata": {
        "id": "mKlewXJhLhNx"
      }
    },
    {
      "cell_type": "code",
      "source": [
        "dados_acidente <- dados |> filter(ocorrencia_classificacao==\"ACIDENTE\")\n",
        "\n",
        "qtde_obs_acidente <- nrow(dados_acidente)\n",
        "\n",
        "graf_acidente <-  dados |> \n",
        "                  filter(ocorrencia_classificacao==\"ACIDENTE\") |>\n",
        "                  group_by(aeronave_tipo_veiculo,ocorrencia_classificacao) |> \n",
        "                  summarise(quantidade = n()) |>\n",
        "                  ggplot(aes(x = fct_reorder(aeronave_tipo_veiculo,quantidade/qtde_obs_acidente), y = quantidade/qtde_obs_acidente,label=                percent(round((quantidade/qtde_obs_acidente),2)))) +\n",
        "                  geom_bar(stat=\"identity\",fill = \"lightblue\") +\n",
        "                  ggtitle(\"Representatividade Ocorrências de Acidente por Tipo Veiculo\")+\n",
        "                  coord_flip () +\n",
        "                  geom_label(size=4)+\n",
        "                  xlab(\"\") + ylab(\"\") +\n",
        "                  theme_bw() +\n",
        "                  theme(axis.title.x = element_text(margin(t=10)),panel.grid=element_blank()) \n",
        "\n",
        "dados_incidente <- dados |> filter(ocorrencia_classificacao==\"INCIDENTE\")\n",
        "\n",
        "qtde_obs_incidente <- nrow(dados_incidente)\n",
        "\n",
        "graf_incidente <-  dados |> \n",
        "                  filter(ocorrencia_classificacao==\"INCIDENTE\") |>\n",
        "                  group_by(aeronave_tipo_veiculo,ocorrencia_classificacao) |> \n",
        "                  summarise(quantidade = n()) |>\n",
        "                  ggplot(aes(x = fct_reorder(aeronave_tipo_veiculo,quantidade/qtde_obs_incidente), y = quantidade/qtde_obs_incidente,label=                percent(round((quantidade/qtde_obs_incidente),2)))) +\n",
        "                  geom_bar(stat=\"identity\",fill = \"lightblue\") +\n",
        "                  ggtitle(\"Representatividade Ocorrências de Incidente por Tipo Veiculo\")+\n",
        "                  coord_flip () +\n",
        "                  geom_label(size=4)+\n",
        "                  xlab(\"\") + ylab(\"\") +\n",
        "                  theme_bw() +\n",
        "                  theme(axis.title.x = element_text(margin(t=10)),panel.grid=element_blank()) \n",
        "\n",
        "dados_incid_grave <- dados |> filter(ocorrencia_classificacao==\"INCIDENTE GRAVE\")\n",
        "\n",
        "qtde_obs_incid_grave <- nrow(dados_incid_grave)\n",
        "\n",
        "graf_incid_grave <-  dados |> \n",
        "                  filter(ocorrencia_classificacao==\"INCIDENTE GRAVE\") |>\n",
        "                  group_by(aeronave_tipo_veiculo,ocorrencia_classificacao) |> \n",
        "                  summarise(quantidade = n()) |>\n",
        "                  ggplot(aes(x = fct_reorder(aeronave_tipo_veiculo,quantidade/qtde_obs_incid_grave), y = quantidade/qtde_obs_incid_grave,label= percent(round((quantidade/qtde_obs_incid_grave),2)))) +\n",
        "                  geom_bar(stat=\"identity\",fill = \"lightblue\") +\n",
        "                   ggtitle(\"Representatividade Ocorrências de Incidente  por Tipo Veiculo\")+\n",
        "                  coord_flip () +\n",
        "                  geom_label(size=4)+\n",
        "                  xlab(\"\") + ylab(\"\") +\n",
        "                  theme_bw() +\n",
        "                  theme(axis.title.x = element_text(margin(t=10)),panel.grid=element_blank())\n",
        "\n",
        "##grid.arrange(graf_incidente, graf_incid_grave,graf_acidente,ncol=3)\n",
        "\n",
        "graf_incidente\n",
        "graf_incid_grave\n",
        "graf_acidente"
      ],
      "metadata": {
        "colab": {
          "base_uri": "https://localhost:8080/",
          "height": 1000
        },
        "id": "5RPNr2A0Lhii",
        "outputId": "08cfe117-5f32-4532-cc08-019df90e0308"
      },
      "execution_count": 30,
      "outputs": [
        {
          "output_type": "stream",
          "name": "stderr",
          "text": [
            "\u001b[1m\u001b[22m`summarise()` has grouped output by 'aeronave_tipo_veiculo'. You can override\n",
            "using the `.groups` argument.\n",
            "Warning message:\n",
            "“Vectorized input to `element_text()` is not officially supported.\n",
            "Results may be unexpected or may change in future versions of ggplot2.”\n",
            "\u001b[1m\u001b[22m`summarise()` has grouped output by 'aeronave_tipo_veiculo'. You can override\n",
            "using the `.groups` argument.\n",
            "Warning message:\n",
            "“Vectorized input to `element_text()` is not officially supported.\n",
            "Results may be unexpected or may change in future versions of ggplot2.”\n",
            "\u001b[1m\u001b[22m`summarise()` has grouped output by 'aeronave_tipo_veiculo'. You can override\n",
            "using the `.groups` argument.\n",
            "Warning message:\n",
            "“Vectorized input to `element_text()` is not officially supported.\n",
            "Results may be unexpected or may change in future versions of ggplot2.”\n"
          ]
        },
        {
          "output_type": "display_data",
          "data": {
            "text/plain": [
              "plot without title"
            ],
            "image/png": "[encoded data removed]"
          },
          "metadata": {
            "image/png": {
              "width": 420,
              "height": 420
            }
          }
        },
        {
          "output_type": "display_data",
          "data": {
            "text/plain": [
              "plot without title"
            ],
            "image/png": "[encoded data removed]"
          },
          "metadata": {
            "image/png": {
              "width": 420,
              "height": 420
            }
          }
        },
        {
          "output_type": "display_data",
          "data": {
            "text/plain": [
              "plot without title"
            ],
            "image/png": "[encoded data removed]"
          },
          "metadata": {
            "image/png": {
              "width": 420,
              "height": 420
            }
          }
        }
      ]
    },
    {
      "cell_type": "markdown",
      "source": [
        "\n",
        "# **Árvore de decisão - Classificação**\n",
        "\n",
        "\n",
        "\n"
      ],
      "metadata": {
        "id": "slsV4HbBSl8U"
      }
    },
    {
      "cell_type": "markdown",
      "source": [
        "Realizando a separação conjunto de dados entre treino e teste"
      ],
      "metadata": {
        "id": "NcB-iLaGTZQn"
      }
    },
    {
      "cell_type": "code",
      "source": [
        "set.seed(1234)\n",
        "\n",
        "divisao_dados <- initial_split(data = dados,prop = 0.75)\n",
        "dados_treino <- training(divisao_dados)\n",
        "dados_teste <- testing(divisao_dados)\n",
        "\n",
        "set.seed(1234)\n",
        "\n",
        "cv <- vfold_cv(dados_treino, v = 10) "
      ],
      "metadata": {
        "id": "aURwdfBDTdMv"
      },
      "execution_count": 12,
      "outputs": []
    },
    {
      "cell_type": "markdown",
      "source": [
        "Definindo a variável target e as variáveis independentes"
      ],
      "metadata": {
        "id": "RY-KXEijVvaM"
      }
    },
    {
      "cell_type": "code",
      "source": [
        "receita    <- recipe(ocorrencia_classificacao ~ . , data = dados_treino)"
      ],
      "metadata": {
        "id": "5qFoTSnBVmyE"
      },
      "execution_count": 13,
      "outputs": []
    },
    {
      "cell_type": "markdown",
      "source": [
        "##**Modelos**"
      ],
      "metadata": {
        "id": "1yhCd2w4Wuf3"
      }
    },
    {
      "cell_type": "markdown",
      "source": [
        "Iremos iniciar com dois modelos (Rpart, C5.0), neste primeiro momento não iremos difinir parâmetros e nem utilizar validação cruzada.\n",
        "\n",
        "\n"
      ],
      "metadata": {
        "id": "AZJQXLksW8Xq"
      }
    },
    {
      "cell_type": "markdown",
      "source": [
        "### **RPART**"
      ],
      "metadata": {
        "id": "3e2rSxACwvC4"
      }
    },
    {
      "cell_type": "code",
      "source": [
        "arv_rpart  <- decision_tree() |> \n",
        "              set_engine(\"rpart\") |>\n",
        "              set_mode(\"classification\")\n",
        "\n",
        "wf_rpart <- workflow() |> add_recipe(receita) |> add_model(arv_rpart)\n",
        "\n",
        "modelo_ajustado_rpart <- fit(wf_rpart,dados_treino)\n"
      ],
      "metadata": {
        "id": "jRhxg2qTXW_m"
      },
      "execution_count": 14,
      "outputs": []
    },
    {
      "cell_type": "markdown",
      "source": [
        "Exibindo o modelo de acordo com o metodo de Rpart\n",
        "\n",
        "---\n",
        "\n"
      ],
      "metadata": {
        "id": "PJEkZtKyusic"
      }
    },
    {
      "cell_type": "code",
      "source": [
        "modelo_ajustado_rpart"
      ],
      "metadata": {
        "colab": {
          "base_uri": "https://localhost:8080/",
          "height": 329
        },
        "id": "oJLjLUDtuwEw",
        "outputId": "f4c34e42-b2bd-46b9-8808-4fa0843c52f1"
      },
      "execution_count": 63,
      "outputs": [
        {
          "output_type": "display_data",
          "data": {
            "text/plain": [
              "══ Workflow [trained] ══════════════════════════════════════════════════════════\n",
              "\u001b[3mPreprocessor:\u001b[23m Recipe\n",
              "\u001b[3mModel:\u001b[23m decision_tree()\n",
              "\n",
              "── Preprocessor ────────────────────────────────────────────────────────────────\n",
              "0 Recipe Steps\n",
              "\n",
              "── Model ───────────────────────────────────────────────────────────────────────\n",
              "n= 4146 \n",
              "\n",
              "node), split, n, loss, yval, (yprob)\n",
              "      * denotes terminal node\n",
              "\n",
              "1) root 4146 1872 INCIDENTE (0.31789677 0.54848046 0.13362277)  \n",
              "  2) aeronave_nivel_dano=DESTRUÍDA,SUBSTANCIAL 1409  157 ACIDENTE (0.88857346 0.02767921 0.08374734) *\n",
              "  3) aeronave_nivel_dano=LEVE,NENHUM 2737  502 INCIDENTE (0.02411399 0.81658750 0.15929850)  \n",
              "    6) ocorrencia_saida_pista=NÃO 2575  371 INCIDENTE (0.02291262 0.85592233 0.12116505) *\n",
              "    7) ocorrencia_saida_pista=SIM 162   38 INCIDENTE GRAVE (0.04320988 0.19135802 0.76543210) *"
            ]
          },
          "metadata": {}
        }
      ]
    },
    {
      "cell_type": "markdown",
      "source": [
        "Calculando a acuracia do modelo de acordo com dados de treino."
      ],
      "metadata": {
        "id": "e7BghSPCfoi7"
      }
    },
    {
      "cell_type": "code",
      "source": [
        "resultado_treino_rpart <- predict(modelo_ajustado_rpart,dados_treino)\n",
        "resultado_treino_rpart <- mutate(resultado_treino_rpart,ocorrencia_classificacao=dados_treino$ocorrencia_classificacao)\n",
        "resultado_treino_rpart |> metrics(ocorrencia_classificacao,.pred_class)\n",
        "\n"
      ],
      "metadata": {
        "colab": {
          "base_uri": "https://localhost:8080/",
          "height": 161
        },
        "id": "jix046RGcjt0",
        "outputId": "f80c3d87-36aa-4bf0-906a-e63edce804e2"
      },
      "execution_count": 15,
      "outputs": [
        {
          "output_type": "display_data",
          "data": {
            "text/html": [
              "<table class=\"dataframe\">\n",
              "<caption>A tibble: 2 × 3</caption>\n",
              "<thead>\n",
              "\t<tr><th scope=col>.metric</th><th scope=col>.estimator</th><th scope=col>.estimate</th></tr>\n",
              "\t<tr><th scope=col>&lt;chr&gt;</th><th scope=col>&lt;chr&gt;</th><th scope=col>&lt;dbl&gt;</th></tr>\n",
              "</thead>\n",
              "<tbody>\n",
              "\t<tr><td>accuracy</td><td>multiclass</td><td>0.8634829</td></tr>\n",
              "\t<tr><td>kap     </td><td>multiclass</td><td>0.7500110</td></tr>\n",
              "</tbody>\n",
              "</table>\n"
            ],
            "text/markdown": "\nA tibble: 2 × 3\n\n| .metric &lt;chr&gt; | .estimator &lt;chr&gt; | .estimate &lt;dbl&gt; |\n|---|---|---|\n| accuracy | multiclass | 0.8634829 |\n| kap      | multiclass | 0.7500110 |\n\n",
            "text/latex": "A tibble: 2 × 3\n\\begin{tabular}{lll}\n .metric & .estimator & .estimate\\\\\n <chr> & <chr> & <dbl>\\\\\n\\hline\n\t accuracy & multiclass & 0.8634829\\\\\n\t kap      & multiclass & 0.7500110\\\\\n\\end{tabular}\n",
            "text/plain": [
              "  .metric  .estimator .estimate\n",
              "1 accuracy multiclass 0.8634829\n",
              "2 kap      multiclass 0.7500110"
            ]
          },
          "metadata": {}
        }
      ]
    },
    {
      "cell_type": "markdown",
      "source": [
        "Calculando a acuracia do modelo de acordo com os dados de teste."
      ],
      "metadata": {
        "id": "8tlye0XHkqRg"
      }
    },
    {
      "cell_type": "code",
      "source": [
        "resultado_teste_rpart <- predict(modelo_ajustado_rpart,dados_teste)\n",
        "resultado_teste_rpart <- mutate(resultado_teste_rpart,ocorrencia_classificacao=dados_teste$ocorrencia_classificacao)\n",
        "resultado_teste_rpart |> metrics(ocorrencia_classificacao,.pred_class)"
      ],
      "metadata": {
        "colab": {
          "base_uri": "https://localhost:8080/",
          "height": 161
        },
        "id": "q-c1Xgz0kzbv",
        "outputId": "47716a57-a227-489e-cebf-65164414a0ff"
      },
      "execution_count": 16,
      "outputs": [
        {
          "output_type": "display_data",
          "data": {
            "text/html": [
              "<table class=\"dataframe\">\n",
              "<caption>A tibble: 2 × 3</caption>\n",
              "<thead>\n",
              "\t<tr><th scope=col>.metric</th><th scope=col>.estimator</th><th scope=col>.estimate</th></tr>\n",
              "\t<tr><th scope=col>&lt;chr&gt;</th><th scope=col>&lt;chr&gt;</th><th scope=col>&lt;dbl&gt;</th></tr>\n",
              "</thead>\n",
              "<tbody>\n",
              "\t<tr><td>accuracy</td><td>multiclass</td><td>0.8640636</td></tr>\n",
              "\t<tr><td>kap     </td><td>multiclass</td><td>0.7500298</td></tr>\n",
              "</tbody>\n",
              "</table>\n"
            ],
            "text/markdown": "\nA tibble: 2 × 3\n\n| .metric &lt;chr&gt; | .estimator &lt;chr&gt; | .estimate &lt;dbl&gt; |\n|---|---|---|\n| accuracy | multiclass | 0.8640636 |\n| kap      | multiclass | 0.7500298 |\n\n",
            "text/latex": "A tibble: 2 × 3\n\\begin{tabular}{lll}\n .metric & .estimator & .estimate\\\\\n <chr> & <chr> & <dbl>\\\\\n\\hline\n\t accuracy & multiclass & 0.8640636\\\\\n\t kap      & multiclass & 0.7500298\\\\\n\\end{tabular}\n",
            "text/plain": [
              "  .metric  .estimator .estimate\n",
              "1 accuracy multiclass 0.8640636\n",
              "2 kap      multiclass 0.7500298"
            ]
          },
          "metadata": {}
        }
      ]
    },
    {
      "cell_type": "markdown",
      "source": [
        "#### **Analisando caracterticas do modelo rpart**\n",
        "\n",
        "\n",
        "\n"
      ],
      "metadata": {
        "id": "LkLys5p_mOBs"
      }
    },
    {
      "cell_type": "code",
      "source": [
        "tree_fit <- modelo_ajustado_rpart |>\n",
        "            extract_fit_parsnip()"
      ],
      "metadata": {
        "id": "0WhrLaCPmUjl"
      },
      "execution_count": 17,
      "outputs": []
    },
    {
      "cell_type": "markdown",
      "source": [
        "Importancia das variaveis no modelo"
      ],
      "metadata": {
        "id": "S7BCIKLrmfBN"
      }
    },
    {
      "cell_type": "code",
      "source": [
        "vip(tree_fit) +\n",
        "geom_col(stat = \"identity\",fill=\"lightblue\") +\n",
        "ggtitle(\"Variáveis de maior importância\")"
      ],
      "metadata": {
        "colab": {
          "base_uri": "https://localhost:8080/",
          "height": 472
        },
        "id": "RRpvoMDlmee-",
        "outputId": "a82f55a6-4ff4-4a7a-9677-cd0c51bd08c6"
      },
      "execution_count": 19,
      "outputs": [
        {
          "output_type": "stream",
          "name": "stderr",
          "text": [
            "Warning message:\n",
            "“Ignoring unknown parameters: stat”\n"
          ]
        },
        {
          "output_type": "display_data",
          "data": {
            "text/plain": [
              "plot without title"
            ],
            "image/png": "[encoded data removed]"
          },
          "metadata": {
            "image/png": {
              "width": 420,
              "height": 420
            }
          }
        }
      ]
    },
    {
      "cell_type": "code",
      "source": [
        "rpart.plot(tree_fit$fit, main = \"Arvore de Decisão Rpart\",\n",
        "    tweak = 0.8,roundint=FALSE)"
      ],
      "metadata": {
        "colab": {
          "base_uri": "https://localhost:8080/",
          "height": 437
        },
        "id": "YjS9D18eok9b",
        "outputId": "01e1b99d-7920-4fc2-dd65-4ab0620264f2"
      },
      "execution_count": 20,
      "outputs": [
        {
          "output_type": "display_data",
          "data": {
            "text/plain": [
              "Plot with title “Arvore de Decisão Rpart”"
            ],
            "image/png": "[encoded data removed]"
          },
          "metadata": {
            "image/png": {
              "width": 420,
              "height": 420
            }
          }
        }
      ]
    },
    {
      "cell_type": "markdown",
      "source": [
        "### **C5.0**"
      ],
      "metadata": {
        "id": "sYJg25lNxJHI"
      }
    },
    {
      "cell_type": "code",
      "source": [
        "arv_c50   <-  decision_tree() |> \n",
        "              set_engine(\"C5.0\") |>\n",
        "              set_mode(\"classification\")\n",
        "\n",
        "wf_C50 <- workflow() |> add_recipe(receita) |> add_model(arv_c50)\n",
        "\n",
        "modelo_ajustado_C50 <- fit(wf_C50,dados_treino)"
      ],
      "metadata": {
        "colab": {
          "base_uri": "https://localhost:8080/"
        },
        "id": "f2I2jSiYxM1K",
        "outputId": "6d3df76b-a42c-483e-822c-079605b8d9a2"
      },
      "execution_count": 21,
      "outputs": [
        {
          "output_type": "stream",
          "name": "stdout",
          "text": [
            "c50 code called exit with value 1\n"
          ]
        }
      ]
    },
    {
      "cell_type": "markdown",
      "source": [
        "Exibindo o modelo de acordo com o metodo de C5.0\n"
      ],
      "metadata": {
        "id": "kLGwt9JnyYWs"
      }
    },
    {
      "cell_type": "code",
      "source": [
        "modelo_ajustado_C50"
      ],
      "metadata": {
        "colab": {
          "base_uri": "https://localhost:8080/",
          "height": 364
        },
        "id": "84aS-etAyZ5Q",
        "outputId": "d45a8f93-3e25-4e73-a524-da69c2b4db46"
      },
      "execution_count": 22,
      "outputs": [
        {
          "output_type": "display_data",
          "data": {
            "text/plain": [
              "══ Workflow [trained] ══════════════════════════════════════════════════════════\n",
              "\u001b[3mPreprocessor:\u001b[23m Recipe\n",
              "\u001b[3mModel:\u001b[23m decision_tree()\n",
              "\n",
              "── Preprocessor ────────────────────────────────────────────────────────────────\n",
              "0 Recipe Steps\n",
              "\n",
              "── Model ───────────────────────────────────────────────────────────────────────\n",
              "\n",
              "Call:\n",
              "C5.0.default(x = x, y = y, trials = 1, control = C50::C5.0Control(minCases =\n",
              " 2, sample = 0))\n",
              "\n",
              "Classification Tree\n",
              "Number of samples: 4146 \n",
              "Number of predictors: 9 \n",
              "\n",
              "Tree size: 0 \n",
              "\n",
              "Non-standard options: attempt to group attributes\n"
            ]
          },
          "metadata": {}
        }
      ]
    },
    {
      "cell_type": "markdown",
      "source": [
        "Não é possível realizar as outras etapas por não ter gerado nenhum modelo."
      ],
      "metadata": {
        "id": "_wMG-zzTyj7w"
      }
    },
    {
      "cell_type": "markdown",
      "source": [
        "### **Procurando os melhores Hiperparametros**"
      ],
      "metadata": {
        "id": "WHhQMDhsyr_v"
      }
    },
    {
      "cell_type": "markdown",
      "source": [
        "#### **Rpart**"
      ],
      "metadata": {
        "id": "YivG5CwezUa1"
      }
    },
    {
      "cell_type": "markdown",
      "source": [
        "Iremos agora realizar grade de ajuste com combinações de valores de hiperparâmetros e neste momento utilizar o metodo de validação cruzada também."
      ],
      "metadata": {
        "id": "bsFfhs7sy0tS"
      }
    },
    {
      "cell_type": "code",
      "source": [
        "arv_rpart_1  <- decision_tree(cost_complexity = tune(),\n",
        "                            tree_depth = tune(),\n",
        "                            min_n = tune()) |> \n",
        "              set_engine(\"rpart\") |>\n",
        "              set_mode(\"classification\")"
      ],
      "metadata": {
        "id": "VYZ8b9KYyyFl"
      },
      "execution_count": 31,
      "outputs": []
    },
    {
      "cell_type": "code",
      "source": [
        "grade_parametros <- grid_regular(cost_complexity(),tree_depth(),min_n())\n",
        "grade_parametros"
      ],
      "metadata": {
        "colab": {
          "base_uri": "https://localhost:8080/",
          "height": 945
        },
        "id": "8r7z7kOEz69a",
        "outputId": "2df1ecc2-e0fb-4d32-e74e-c25be2fe8811"
      },
      "execution_count": 32,
      "outputs": [
        {
          "output_type": "display_data",
          "data": {
            "text/html": [
              "<table class=\"dataframe\">\n",
              "<caption>A tibble: 27 × 3</caption>\n",
              "<thead>\n",
              "\t<tr><th scope=col>cost_complexity</th><th scope=col>tree_depth</th><th scope=col>min_n</th></tr>\n",
              "\t<tr><th scope=col>&lt;dbl&gt;</th><th scope=col>&lt;int&gt;</th><th scope=col>&lt;int&gt;</th></tr>\n",
              "</thead>\n",
              "<tbody>\n",
              "\t<tr><td>1.000000e-10</td><td> 1</td><td> 2</td></tr>\n",
              "\t<tr><td>3.162278e-06</td><td> 1</td><td> 2</td></tr>\n",
              "\t<tr><td>1.000000e-01</td><td> 1</td><td> 2</td></tr>\n",
              "\t<tr><td>1.000000e-10</td><td> 8</td><td> 2</td></tr>\n",
              "\t<tr><td>3.162278e-06</td><td> 8</td><td> 2</td></tr>\n",
              "\t<tr><td>1.000000e-01</td><td> 8</td><td> 2</td></tr>\n",
              "\t<tr><td>1.000000e-10</td><td>15</td><td> 2</td></tr>\n",
              "\t<tr><td>3.162278e-06</td><td>15</td><td> 2</td></tr>\n",
              "\t<tr><td>1.000000e-01</td><td>15</td><td> 2</td></tr>\n",
              "\t<tr><td>1.000000e-10</td><td> 1</td><td>21</td></tr>\n",
              "\t<tr><td>3.162278e-06</td><td> 1</td><td>21</td></tr>\n",
              "\t<tr><td>1.000000e-01</td><td> 1</td><td>21</td></tr>\n",
              "\t<tr><td>1.000000e-10</td><td> 8</td><td>21</td></tr>\n",
              "\t<tr><td>3.162278e-06</td><td> 8</td><td>21</td></tr>\n",
              "\t<tr><td>1.000000e-01</td><td> 8</td><td>21</td></tr>\n",
              "\t<tr><td>1.000000e-10</td><td>15</td><td>21</td></tr>\n",
              "\t<tr><td>3.162278e-06</td><td>15</td><td>21</td></tr>\n",
              "\t<tr><td>1.000000e-01</td><td>15</td><td>21</td></tr>\n",
              "\t<tr><td>1.000000e-10</td><td> 1</td><td>40</td></tr>\n",
              "\t<tr><td>3.162278e-06</td><td> 1</td><td>40</td></tr>\n",
              "\t<tr><td>1.000000e-01</td><td> 1</td><td>40</td></tr>\n",
              "\t<tr><td>1.000000e-10</td><td> 8</td><td>40</td></tr>\n",
              "\t<tr><td>3.162278e-06</td><td> 8</td><td>40</td></tr>\n",
              "\t<tr><td>1.000000e-01</td><td> 8</td><td>40</td></tr>\n",
              "\t<tr><td>1.000000e-10</td><td>15</td><td>40</td></tr>\n",
              "\t<tr><td>3.162278e-06</td><td>15</td><td>40</td></tr>\n",
              "\t<tr><td>1.000000e-01</td><td>15</td><td>40</td></tr>\n",
              "</tbody>\n",
              "</table>\n"
            ],
            "text/markdown": "\nA tibble: 27 × 3\n\n| cost_complexity &lt;dbl&gt; | tree_depth &lt;int&gt; | min_n &lt;int&gt; |\n|---|---|---|\n| 1.000000e-10 |  1 |  2 |\n| 3.162278e-06 |  1 |  2 |\n| 1.000000e-01 |  1 |  2 |\n| 1.000000e-10 |  8 |  2 |\n| 3.162278e-06 |  8 |  2 |\n| 1.000000e-01 |  8 |  2 |\n| 1.000000e-10 | 15 |  2 |\n| 3.162278e-06 | 15 |  2 |\n| 1.000000e-01 | 15 |  2 |\n| 1.000000e-10 |  1 | 21 |\n| 3.162278e-06 |  1 | 21 |\n| 1.000000e-01 |  1 | 21 |\n| 1.000000e-10 |  8 | 21 |\n| 3.162278e-06 |  8 | 21 |\n| 1.000000e-01 |  8 | 21 |\n| 1.000000e-10 | 15 | 21 |\n| 3.162278e-06 | 15 | 21 |\n| 1.000000e-01 | 15 | 21 |\n| 1.000000e-10 |  1 | 40 |\n| 3.162278e-06 |  1 | 40 |\n| 1.000000e-01 |  1 | 40 |\n| 1.000000e-10 |  8 | 40 |\n| 3.162278e-06 |  8 | 40 |\n| 1.000000e-01 |  8 | 40 |\n| 1.000000e-10 | 15 | 40 |\n| 3.162278e-06 | 15 | 40 |\n| 1.000000e-01 | 15 | 40 |\n\n",
            "text/latex": "A tibble: 27 × 3\n\\begin{tabular}{lll}\n cost\\_complexity & tree\\_depth & min\\_n\\\\\n <dbl> & <int> & <int>\\\\\n\\hline\n\t 1.000000e-10 &  1 &  2\\\\\n\t 3.162278e-06 &  1 &  2\\\\\n\t 1.000000e-01 &  1 &  2\\\\\n\t 1.000000e-10 &  8 &  2\\\\\n\t 3.162278e-06 &  8 &  2\\\\\n\t 1.000000e-01 &  8 &  2\\\\\n\t 1.000000e-10 & 15 &  2\\\\\n\t 3.162278e-06 & 15 &  2\\\\\n\t 1.000000e-01 & 15 &  2\\\\\n\t 1.000000e-10 &  1 & 21\\\\\n\t 3.162278e-06 &  1 & 21\\\\\n\t 1.000000e-01 &  1 & 21\\\\\n\t 1.000000e-10 &  8 & 21\\\\\n\t 3.162278e-06 &  8 & 21\\\\\n\t 1.000000e-01 &  8 & 21\\\\\n\t 1.000000e-10 & 15 & 21\\\\\n\t 3.162278e-06 & 15 & 21\\\\\n\t 1.000000e-01 & 15 & 21\\\\\n\t 1.000000e-10 &  1 & 40\\\\\n\t 3.162278e-06 &  1 & 40\\\\\n\t 1.000000e-01 &  1 & 40\\\\\n\t 1.000000e-10 &  8 & 40\\\\\n\t 3.162278e-06 &  8 & 40\\\\\n\t 1.000000e-01 &  8 & 40\\\\\n\t 1.000000e-10 & 15 & 40\\\\\n\t 3.162278e-06 & 15 & 40\\\\\n\t 1.000000e-01 & 15 & 40\\\\\n\\end{tabular}\n",
            "text/plain": [
              "   cost_complexity tree_depth min_n\n",
              "1  1.000000e-10     1          2   \n",
              "2  3.162278e-06     1          2   \n",
              "3  1.000000e-01     1          2   \n",
              "4  1.000000e-10     8          2   \n",
              "5  3.162278e-06     8          2   \n",
              "6  1.000000e-01     8          2   \n",
              "7  1.000000e-10    15          2   \n",
              "8  3.162278e-06    15          2   \n",
              "9  1.000000e-01    15          2   \n",
              "10 1.000000e-10     1         21   \n",
              "11 3.162278e-06     1         21   \n",
              "12 1.000000e-01     1         21   \n",
              "13 1.000000e-10     8         21   \n",
              "14 3.162278e-06     8         21   \n",
              "15 1.000000e-01     8         21   \n",
              "16 1.000000e-10    15         21   \n",
              "17 3.162278e-06    15         21   \n",
              "18 1.000000e-01    15         21   \n",
              "19 1.000000e-10     1         40   \n",
              "20 3.162278e-06     1         40   \n",
              "21 1.000000e-01     1         40   \n",
              "22 1.000000e-10     8         40   \n",
              "23 3.162278e-06     8         40   \n",
              "24 1.000000e-01     8         40   \n",
              "25 1.000000e-10    15         40   \n",
              "26 3.162278e-06    15         40   \n",
              "27 1.000000e-01    15         40   "
            ]
          },
          "metadata": {}
        }
      ]
    },
    {
      "cell_type": "code",
      "source": [
        "set.seed(314)\n",
        "\n",
        "wf <- workflow () |> add_model (arv_rpart_1) |> add_recipe (receita)\n",
        "\n",
        "grade_ajustada <- tune_grid(wf, resamples = cv, grid = grade_parametros)"
      ],
      "metadata": {
        "id": "0tU0kKTDz-m8"
      },
      "execution_count": null,
      "outputs": []
    },
    {
      "cell_type": "markdown",
      "source": [
        "Visualizando os ajustes dos hiperparametros, atraves da medida de acurancia."
      ],
      "metadata": {
        "id": "_EiX0kWT07X7"
      }
    },
    {
      "cell_type": "code",
      "source": [
        "grade_ajustada |> show_best(metric = \"accuracy\")"
      ],
      "metadata": {
        "colab": {
          "base_uri": "https://localhost:8080/",
          "height": 96
        },
        "id": "r83Oj_cJ06zK",
        "outputId": "a0fe3ce3-dda7-4454-e1fd-f1e3abf55078"
      },
      "execution_count": 4,
      "outputs": [
        {
          "output_type": "error",
          "ename": "ERROR",
          "evalue": "ignored",
          "traceback": [
            "Error in show_best(grade_ajustada, metric = \"accuracy\"): could not find function \"show_best\"\nTraceback:\n"
          ]
        }
      ]
    },
    {
      "cell_type": "markdown",
      "source": [
        "Treino completo de um modelo com os melhores valores de hiperparametro"
      ],
      "metadata": {
        "id": "ceGcMOID1GEQ"
      }
    },
    {
      "cell_type": "code",
      "source": [
        "melhor_wf <- select_best(grade_ajustada,metric = \"accuracy\")\n",
        "melhor_wf <- wf |> finalize_workflow(melhor_wf)\n",
        "ajuste_final <- melhor_wf |> last_fit(divisao_dados)\n",
        "\n",
        "ajuste_final |> collect_metrics()"
      ],
      "metadata": {
        "colab": {
          "base_uri": "https://localhost:8080/",
          "height": 96
        },
        "id": "Diy7Y3cQ1F0p",
        "outputId": "02a6e6f4-3b64-4621-aeea-b6f818f614e4"
      },
      "execution_count": 5,
      "outputs": [
        {
          "output_type": "error",
          "ename": "ERROR",
          "evalue": "ignored",
          "traceback": [
            "Error in select_best(grade_ajustada, metric = \"accuracy\"): could not find function \"select_best\"\nTraceback:\n"
          ]
        }
      ]
    },
    {
      "cell_type": "code",
      "source": [],
      "metadata": {
        "id": "uDn530B0TA8G"
      },
      "execution_count": null,
      "outputs": []
    },
    {
      "cell_type": "code",
      "source": [
        "ajuste_final"
      ],
      "metadata": {
        "id": "qO7OSR_ELViN"
      },
      "execution_count": null,
      "outputs": []
    },
    {
      "cell_type": "code",
      "source": [
        "tree_fit2 <- ajuste_final |>\n",
        "            extract_fit_parsnip()"
      ],
      "metadata": {
        "id": "xNZxSkL5LlMA"
      },
      "execution_count": null,
      "outputs": []
    },
    {
      "cell_type": "code",
      "source": [
        "vip(tree_fit2) +\n",
        "   ggtitle(\"Variáveis de maior importância\")"
      ],
      "metadata": {
        "id": "-qj6PFcFLtbc"
      },
      "execution_count": null,
      "outputs": []
    },
    {
      "cell_type": "code",
      "source": [
        "rpart.plot(tree_fit$fit2, main = \"Arvore de Decisão Rpart\",\n",
        "    tweak = 0.8,roundint=FALSE)"
      ],
      "metadata": {
        "id": "TLuSDeu1L2da"
      },
      "execution_count": null,
      "outputs": []
    }
  ]
}